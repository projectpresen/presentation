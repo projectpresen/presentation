{
  "cells": [
    {
      "cell_type": "markdown",
      "metadata": {
        "id": "Vj4iXotj8S0Z"
      },
      "source": [
        "# Read Sort and Organize Data"
      ]
    },
    {
      "cell_type": "code",
      "execution_count": null,
      "metadata": {
        "colab": {
          "base_uri": "https://localhost:8080/"
        },
        "id": "3nTQHRSb7NpS",
        "outputId": "f1093f47-1bca-4209-c446-3f1a2ce53b95"
      },
      "outputs": [
        {
          "name": "stdout",
          "output_type": "stream",
          "text": [
            "Looking in indexes: https://pypi.org/simple, https://us-python.pkg.dev/colab-wheels/public/simple/\n",
            "Collecting simpy\n",
            "  Downloading simpy-4.0.1-py2.py3-none-any.whl (29 kB)\n",
            "Installing collected packages: simpy\n",
            "Successfully installed simpy-4.0.1\n"
          ]
        }
      ],
      "source": [
        "!pip install simpy"
      ]
    },
    {
      "cell_type": "code",
      "execution_count": 29,
      "metadata": {
        "id": "_XO4EeR_A5Io"
      },
      "outputs": [],
      "source": [
        "import simpy as sm\n",
        "import pandas as pd\n",
        "import numpy as np\n",
        "import math\n",
        "import statistics\n",
        "import random\n",
        "import seaborn as sns\n",
        "import plotly.express as px\n",
        "import matplotlib.pyplot as plt\n",
        "import scipy.stats as stats"
      ]
    },
    {
      "cell_type": "code",
      "execution_count": 30,
      "metadata": {
        "id": "00tq_lf3QhNt"
      },
      "outputs": [],
      "source": [
        "df_times=pd.read_csv('Picking Times - picking times looker data.csv')"
      ]
    },
    {
      "cell_type": "code",
      "execution_count": 31,
      "metadata": {
        "id": "tRrEp1_FDKKZ"
      },
      "outputs": [],
      "source": [
        "df_times.columns=('CS #','Create Time','Assign Time','Pick Start','Pick End','Weight','Shipped')"
      ]
    },
    {
      "cell_type": "code",
      "execution_count": 32,
      "metadata": {
        "id": "YyfH69JuA2jq"
      },
      "outputs": [],
      "source": [
        "df_times['Pick Start']=pd.to_datetime(df_times['Pick Start'])\n",
        "df_times['Pick End']=pd.to_datetime(df_times['Pick End'])\n",
        "df_times['Create Time']=pd.to_datetime(df_times['Create Time'])\n",
        "df_times.drop(df_times[df_times['Pick End']=='NaT'].index, inplace=True)\n",
        "df_times.drop(df_times[df_times['Pick Start']=='NaT'].index, inplace=True)"
      ]
    },
    {
      "cell_type": "markdown",
      "metadata": {
        "id": "gZjTVVQP9I-u"
      },
      "source": [
        "# Calculation of Duration Times for Picking\n"
      ]
    },
    {
      "cell_type": "code",
      "execution_count": 33,
      "metadata": {
        "id": "qBlVpIIqCepN"
      },
      "outputs": [],
      "source": [
        "df_times['Duration']=df_times['Pick End']-df_times['Pick Start']"
      ]
    },
    {
      "cell_type": "code",
      "execution_count": 34,
      "metadata": {
        "id": "1XaUSRLs-F08"
      },
      "outputs": [],
      "source": [
        "df_times['Duration']\n",
        "df_times['Duration']=df_times['Duration'].astype('timedelta64[m]')"
      ]
    },
    {
      "cell_type": "code",
      "execution_count": 35,
      "metadata": {
        "colab": {
          "base_uri": "https://localhost:8080/"
        },
        "id": "nczlSXOm-Vlc",
        "outputId": "bc4f2ab7-7a5d-443b-c121-ae3d59efa4ba"
      },
      "outputs": [
        {
          "output_type": "execute_result",
          "data": {
            "text/plain": [
              "0       6.0\n",
              "1       0.0\n",
              "2      24.0\n",
              "3      40.0\n",
              "4      25.0\n",
              "       ... \n",
              "495     6.0\n",
              "496    22.0\n",
              "497    11.0\n",
              "498     0.0\n",
              "499     0.0\n",
              "Name: Minutes, Length: 500, dtype: float64"
            ]
          },
          "metadata": {},
          "execution_count": 35
        }
      ],
      "source": [
        "df_times['Minutes']=df_times['Duration'].values.astype(\"float64\")\n",
        "df_times['Minutes']"
      ]
    },
    {
      "cell_type": "code",
      "execution_count": 36,
      "metadata": {
        "id": "yi167ab4_oBD"
      },
      "outputs": [],
      "source": [
        "df_times.drop(df_times[df_times.Minutes > 100].index, inplace=True)\n",
        "df_times.drop(df_times[df_times.Minutes < 5].index, inplace=True)\n",
        "df_times.dropna(inplace=True)"
      ]
    },
    {
      "cell_type": "code",
      "execution_count": 37,
      "metadata": {
        "colab": {
          "base_uri": "https://localhost:8080/",
          "height": 500
        },
        "id": "exHIpH-n_Ed3",
        "outputId": "723d5143-2135-4127-bf23-aaded17cabbd"
      },
      "outputs": [
        {
          "output_type": "execute_result",
          "data": {
            "text/plain": [
              "(array([48., 26., 38., 22., 13., 14.,  4.,  8., 10.,  5.,  8.,  6.,  1.,\n",
              "         3.,  2.]),\n",
              " array([ 5.        , 11.06666667, 17.13333333, 23.2       , 29.26666667,\n",
              "        35.33333333, 41.4       , 47.46666667, 53.53333333, 59.6       ,\n",
              "        65.66666667, 71.73333333, 77.8       , 83.86666667, 89.93333333,\n",
              "        96.        ]),\n",
              " <a list of 15 Patch objects>)"
            ]
          },
          "metadata": {},
          "execution_count": 37
        },
        {
          "output_type": "display_data",
          "data": {
            "text/plain": [
              "<Figure size 1296x432 with 1 Axes>"
            ],
            "image/png": "[encoded data removed]"
          },
          "metadata": {
            "needs_background": "light"
          }
        }
      ],
      "source": [
        "plt.figure(figsize=(18,6))\n",
        "df_times['Minutes']\n",
        "plt.hist(df_times['Minutes'],bins=15)"
      ]
    },
    {
      "cell_type": "code",
      "execution_count": null,
      "metadata": {
        "colab": {
          "base_uri": "https://localhost:8080/"
        },
        "id": "DsuC8Gq31MF8",
        "outputId": "60914b48-ff77-49c3-a0ec-f030d27df837"
      },
      "outputs": [
        {
          "data": {
            "text/plain": [
              "1        8.0\n",
              "2       27.0\n",
              "3       25.0\n",
              "5       62.0\n",
              "6       27.0\n",
              "        ... \n",
              "7257    30.0\n",
              "7258    30.0\n",
              "7259    37.0\n",
              "7260    37.0\n",
              "7261    10.0\n",
              "Name: Minutes, Length: 6077, dtype: float64"
            ]
          },
          "execution_count": 121,
          "metadata": {},
          "output_type": "execute_result"
        }
      ],
      "source": [
        "df_times['Minutes']"
      ]
    },
    {
      "cell_type": "code",
      "execution_count": null,
      "metadata": {
        "colab": {
          "base_uri": "https://localhost:8080/"
        },
        "id": "7EMxhnP4BIun",
        "outputId": "bc6fbe2b-b355-45bd-a8b3-2527813029c4"
      },
      "outputs": [
        {
          "data": {
            "text/plain": [
              "14.284594263624331"
            ]
          },
          "execution_count": 12,
          "metadata": {},
          "output_type": "execute_result"
        }
      ],
      "source": [
        "selim = stats.distributions.gamma.fit(df_times['Minutes'],floc=0)\n",
        "gamma_alpha=selim[0]\n",
        "gamma_beta=selim[2]\n",
        "gamma_beta"
      ]
    },
    {
      "cell_type": "code",
      "execution_count": null,
      "metadata": {
        "colab": {
          "base_uri": "https://localhost:8080/"
        },
        "id": "LkdWXC2YsWZ5",
        "outputId": "290c51a3-049e-442f-e348-dcfb3ea659b4"
      },
      "outputs": [
        {
          "data": {
            "text/plain": [
              "2.031841991861685"
            ]
          },
          "execution_count": 13,
          "metadata": {},
          "output_type": "execute_result"
        }
      ],
      "source": [
        "gamma_alpha"
      ]
    },
    {
      "cell_type": "markdown",
      "metadata": {
        "id": "4fpe-8xqBXKl"
      },
      "source": [
        "# Order Arrival Estimation \n",
        "\n"
      ]
    },
    {
      "cell_type": "code",
      "execution_count": 38,
      "metadata": {
        "id": "5YtHFi7BArAK"
      },
      "outputs": [],
      "source": [
        "Start=df_times.sort_values('Create Time')['Create Time']\n",
        "Start.index=range(len(df_times['Create Time']))"
      ]
    },
    {
      "cell_type": "code",
      "execution_count": 39,
      "metadata": {
        "id": "dgqcc3KDEPud"
      },
      "outputs": [],
      "source": [
        "value1=Start.iloc[lambda x: x.index % 2 == 0]\n",
        "value2=Start.iloc[lambda x: x.index % 2 == 1]"
      ]
    },
    {
      "cell_type": "code",
      "execution_count": 40,
      "metadata": {
        "id": "qeb9kH8cG05W"
      },
      "outputs": [],
      "source": [
        "value1.index=range(len(value1))"
      ]
    },
    {
      "cell_type": "code",
      "execution_count": 41,
      "metadata": {
        "id": "ZTFwHKTVLS58"
      },
      "outputs": [],
      "source": [
        "value2.index=range(len(value2))\n"
      ]
    },
    {
      "cell_type": "code",
      "execution_count": 42,
      "metadata": {
        "id": "VSwJGBj9BUJf"
      },
      "outputs": [],
      "source": [
        "difference=value2-value1"
      ]
    },
    {
      "cell_type": "code",
      "execution_count": 43,
      "metadata": {
        "colab": {
          "base_uri": "https://localhost:8080/"
        },
        "id": "4guhIaExG1o7",
        "outputId": "5f1f031b-7a99-4678-d201-f09f183297dd"
      },
      "outputs": [
        {
          "output_type": "execute_result",
          "data": {
            "text/plain": [
              "0     0 days 00:07:46\n",
              "1     0 days 00:01:27\n",
              "2     0 days 00:10:22\n",
              "3     0 days 00:06:36\n",
              "4     0 days 00:02:36\n",
              "            ...      \n",
              "99    0 days 00:01:29\n",
              "100   0 days 00:07:28\n",
              "101   0 days 00:05:57\n",
              "102   0 days 00:00:14\n",
              "103   0 days 00:25:26\n",
              "Name: Create Time, Length: 104, dtype: timedelta64[ns]"
            ]
          },
          "metadata": {},
          "execution_count": 43
        }
      ],
      "source": [
        "difference"
      ]
    },
    {
      "cell_type": "code",
      "execution_count": 44,
      "metadata": {
        "id": "RNfIP95dC8cf"
      },
      "outputs": [],
      "source": [
        "difference.dropna(inplace=True)\n",
        "difference=difference.astype('timedelta64[m]')"
      ]
    },
    {
      "cell_type": "code",
      "execution_count": 45,
      "metadata": {
        "id": "JJuyuLMPCyzE"
      },
      "outputs": [],
      "source": [
        "difference=difference.astype(\"float64\")"
      ]
    },
    {
      "cell_type": "code",
      "execution_count": null,
      "metadata": {
        "id": "N9EyzaHxN6qz"
      },
      "outputs": [],
      "source": [
        "from pandas.core.frame import DataFrame\n",
        "df_6=DataFrame(difference)"
      ]
    },
    {
      "cell_type": "code",
      "execution_count": 46,
      "metadata": {
        "id": "OCUTjs4ZOmzy"
      },
      "outputs": [],
      "source": [
        "df_6.columns=(['Differ'])"
      ]
    },
    {
      "cell_type": "code",
      "execution_count": 47,
      "metadata": {
        "colab": {
          "base_uri": "https://localhost:8080/",
          "height": 424
        },
        "id": "jME2tAakPhiK",
        "outputId": "a3520131-e03e-4f62-827f-49f4dc20d769"
      },
      "outputs": [
        {
          "output_type": "execute_result",
          "data": {
            "text/plain": [
              "     Differ\n",
              "0       7.0\n",
              "1       1.0\n",
              "2      10.0\n",
              "3       6.0\n",
              "4       2.0\n",
              "..      ...\n",
              "99      1.0\n",
              "100     7.0\n",
              "101     5.0\n",
              "102     0.0\n",
              "103    25.0\n",
              "\n",
              "[100 rows x 1 columns]"
            ],
            "text/html": [
              "\n",
              "  <div id=\"df-75120f67-c202-45cc-8826-c444bdaec2d7\">\n",
              "    <div class=\"colab-df-container\">\n",
              "      <div>\n",
              "<style scoped>\n",
              "    .dataframe tbody tr th:only-of-type {\n",
              "        vertical-align: middle;\n",
              "    }\n",
              "\n",
              "    .dataframe tbody tr th {\n",
              "        vertical-align: top;\n",
              "    }\n",
              "\n",
              "    .dataframe thead th {\n",
              "        text-align: right;\n",
              "    }\n",
              "</style>\n",
              "<table border=\"1\" class=\"dataframe\">\n",
              "  <thead>\n",
              "    <tr style=\"text-align: right;\">\n",
              "      <th></th>\n",
              "      <th>Differ</th>\n",
              "    </tr>\n",
              "  </thead>\n",
              "  <tbody>\n",
              "    <tr>\n",
              "      <th>0</th>\n",
              "      <td>7.0</td>\n",
              "    </tr>\n",
              "    <tr>\n",
              "      <th>1</th>\n",
              "      <td>1.0</td>\n",
              "    </tr>\n",
              "    <tr>\n",
              "      <th>2</th>\n",
              "      <td>10.0</td>\n",
              "    </tr>\n",
              "    <tr>\n",
              "      <th>3</th>\n",
              "      <td>6.0</td>\n",
              "    </tr>\n",
              "    <tr>\n",
              "      <th>4</th>\n",
              "      <td>2.0</td>\n",
              "    </tr>\n",
              "    <tr>\n",
              "      <th>...</th>\n",
              "      <td>...</td>\n",
              "    </tr>\n",
              "    <tr>\n",
              "      <th>99</th>\n",
              "      <td>1.0</td>\n",
              "    </tr>\n",
              "    <tr>\n",
              "      <th>100</th>\n",
              "      <td>7.0</td>\n",
              "    </tr>\n",
              "    <tr>\n",
              "      <th>101</th>\n",
              "      <td>5.0</td>\n",
              "    </tr>\n",
              "    <tr>\n",
              "      <th>102</th>\n",
              "      <td>0.0</td>\n",
              "    </tr>\n",
              "    <tr>\n",
              "      <th>103</th>\n",
              "      <td>25.0</td>\n",
              "    </tr>\n",
              "  </tbody>\n",
              "</table>\n",
              "<p>100 rows × 1 columns</p>\n",
              "</div>\n",
              "      <button class=\"colab-df-convert\" onclick=\"convertToInteractive('df-75120f67-c202-45cc-8826-c444bdaec2d7')\"\n",
              "              title=\"Convert this dataframe to an interactive table.\"\n",
              "              style=\"display:none;\">\n",
              "        \n",
              "  <svg xmlns=\"http://www.w3.org/2000/svg\" height=\"24px\"viewBox=\"0 0 24 24\"\n",
              "       width=\"24px\">\n",
              "    <path d=\"M0 0h24v24H0V0z\" fill=\"none\"/>\n",
              "    <path d=\"M18.56 5.44l.94 2.06.94-2.06 2.06-.94-2.06-.94-.94-2.06-.94 2.06-2.06.94zm-11 1L8.5 8.5l.94-2.06 2.06-.94-2.06-.94L8.5 2.5l-.94 2.06-2.06.94zm10 10l.94 2.06.94-2.06 2.06-.94-2.06-.94-.94-2.06-.94 2.06-2.06.94z\"/><path d=\"M17.41 7.96l-1.37-1.37c-.4-.4-.92-.59-1.43-.59-.52 0-1.04.2-1.43.59L10.3 9.45l-7.72 7.72c-.78.78-.78 2.05 0 2.83L4 21.41c.39.39.9.59 1.41.59.51 0 1.02-.2 1.41-.59l7.78-7.78 2.81-2.81c.8-.78.8-2.07 0-2.86zM5.41 20L4 18.59l7.72-7.72 1.47 1.35L5.41 20z\"/>\n",
              "  </svg>\n",
              "      </button>\n",
              "      \n",
              "  <style>\n",
              "    .colab-df-container {\n",
              "      display:flex;\n",
              "      flex-wrap:wrap;\n",
              "      gap: 12px;\n",
              "    }\n",
              "\n",
              "    .colab-df-convert {\n",
              "      background-color: #E8F0FE;\n",
              "      border: none;\n",
              "      border-radius: 50%;\n",
              "      cursor: pointer;\n",
              "      display: none;\n",
              "      fill: #1967D2;\n",
              "      height: 32px;\n",
              "      padding: 0 0 0 0;\n",
              "      width: 32px;\n",
              "    }\n",
              "\n",
              "    .colab-df-convert:hover {\n",
              "      background-color: #E2EBFA;\n",
              "      box-shadow: 0px 1px 2px rgba(60, 64, 67, 0.3), 0px 1px 3px 1px rgba(60, 64, 67, 0.15);\n",
              "      fill: #174EA6;\n",
              "    }\n",
              "\n",
              "    [theme=dark] .colab-df-convert {\n",
              "      background-color: #3B4455;\n",
              "      fill: #D2E3FC;\n",
              "    }\n",
              "\n",
              "    [theme=dark] .colab-df-convert:hover {\n",
              "      background-color: #434B5C;\n",
              "      box-shadow: 0px 1px 3px 1px rgba(0, 0, 0, 0.15);\n",
              "      filter: drop-shadow(0px 1px 2px rgba(0, 0, 0, 0.3));\n",
              "      fill: #FFFFFF;\n",
              "    }\n",
              "  </style>\n",
              "\n",
              "      <script>\n",
              "        const buttonEl =\n",
              "          document.querySelector('#df-75120f67-c202-45cc-8826-c444bdaec2d7 button.colab-df-convert');\n",
              "        buttonEl.style.display =\n",
              "          google.colab.kernel.accessAllowed ? 'block' : 'none';\n",
              "\n",
              "        async function convertToInteractive(key) {\n",
              "          const element = document.querySelector('#df-75120f67-c202-45cc-8826-c444bdaec2d7');\n",
              "          const dataTable =\n",
              "            await google.colab.kernel.invokeFunction('convertToInteractive',\n",
              "                                                     [key], {});\n",
              "          if (!dataTable) return;\n",
              "\n",
              "          const docLinkHtml = 'Like what you see? Visit the ' +\n",
              "            '<a target=\"_blank\" href=https://colab.research.google.com/notebooks/data_table.ipynb>data table notebook</a>'\n",
              "            + ' to learn more about interactive tables.';\n",
              "          element.innerHTML = '';\n",
              "          dataTable['output_type'] = 'display_data';\n",
              "          await google.colab.output.renderOutput(dataTable, element);\n",
              "          const docLink = document.createElement('div');\n",
              "          docLink.innerHTML = docLinkHtml;\n",
              "          element.appendChild(docLink);\n",
              "        }\n",
              "      </script>\n",
              "    </div>\n",
              "  </div>\n",
              "  "
            ]
          },
          "metadata": {},
          "execution_count": 47
        }
      ],
      "source": [
        "df_6"
      ]
    },
    {
      "cell_type": "code",
      "execution_count": 48,
      "metadata": {
        "id": "GUO4MACgXN8-"
      },
      "outputs": [],
      "source": [
        "df_6.drop(df_6[df_6.Differ > 50].index, inplace=True)"
      ]
    },
    {
      "cell_type": "code",
      "execution_count": 54,
      "metadata": {
        "colab": {
          "base_uri": "https://localhost:8080/",
          "height": 319
        },
        "id": "LJDoqaJjNl6X",
        "outputId": "3e63aa3f-9a10-4b86-b168-3624543489d4"
      },
      "outputs": [
        {
          "output_type": "execute_result",
          "data": {
            "text/plain": [
              "(array([39., 27., 16.,  5.,  3.,  4.,  0.,  3.,  2.,  1.]),\n",
              " array([ 0. ,  4.7,  9.4, 14.1, 18.8, 23.5, 28.2, 32.9, 37.6, 42.3, 47. ]),\n",
              " <a list of 10 Patch objects>)"
            ]
          },
          "metadata": {},
          "execution_count": 54
        },
        {
          "output_type": "display_data",
          "data": {
            "text/plain": [
              "<Figure size 432x288 with 1 Axes>"
            ],
            "image/png": "[encoded data removed]"
          },
          "metadata": {
            "needs_background": "light"
          }
        }
      ],
      "source": [
        "plt.hist(df_6['Differ'])"
      ]
    },
    {
      "cell_type": "code",
      "execution_count": 50,
      "metadata": {
        "id": "Y-FHP3a3zd-t"
      },
      "outputs": [],
      "source": [
        "selim2= stats.distributions.expon.fit(df_6['Differ'],floc=0)"
      ]
    },
    {
      "cell_type": "code",
      "execution_count": 55,
      "metadata": {
        "id": "Q54runFKjWNT",
        "colab": {
          "base_uri": "https://localhost:8080/"
        },
        "outputId": "6a7de0c7-af72-4da7-f1c4-72a5f23c4002"
      },
      "outputs": [
        {
          "output_type": "execute_result",
          "data": {
            "text/plain": [
              "9.07"
            ]
          },
          "metadata": {},
          "execution_count": 55
        }
      ],
      "source": [
        "expo_mean=selim2[1]\n",
        "expo_mean"
      ]
    },
    {
      "cell_type": "code",
      "execution_count": 64,
      "metadata": {
        "id": "3d1rc85l74Wc"
      },
      "outputs": [],
      "source": [
        "wait_times = []##get these as inputs from the user\n",
        "num_order=[]"
      ]
    },
    {
      "cell_type": "markdown",
      "metadata": {
        "id": "mSezFCTq77WA"
      },
      "source": [
        "# Simulation "
      ]
    },
    {
      "cell_type": "code",
      "execution_count": 56,
      "metadata": {
        "id": "cotbhlRT7oPJ"
      },
      "outputs": [],
      "source": [
        "class Warehouse (object):\n",
        "  def __init__(self,env,num_picker):\n",
        "    self.env = env\n",
        "    self.picker = sm.Resource(env, num_picker) ##resource defines how many pickers can be included in the envirenment.\n",
        "  def picking_times(self,order): ##the order initiates the picking process, it is passed on as an argument.\n",
        "    yield self.env.timeout(random.gammavariate(gamma_alpha,gamma_beta))"
      ]
    },
    {
      "cell_type": "code",
      "execution_count": 57,
      "metadata": {
        "id": "VedZdQS27uAe"
      },
      "outputs": [],
      "source": [
        "def start_picking(env,order,warehouse):\n",
        "  picking_start = env.now \n",
        "  with warehouse.picker.request() as request:\n",
        "    yield request ## request is used to calculate the wait time of orders for pickers\n",
        "    wait_times.append(env.now-picking_start)\n",
        "    yield env.process(warehouse.picking_times(order)) ##picker is a shared source, many orders will try to use the same pickers.\n",
        "\n",
        "    #wait_times.append(env.now-picking_start)"
      ]
    },
    {
      "cell_type": "code",
      "execution_count": 58,
      "metadata": {
        "id": "89eetSmS3rQ1"
      },
      "outputs": [],
      "source": [
        "def quality_assurance(env,order,warehouse):\n",
        "  qa_start = env.now\n",
        "  with warehouse.qa.request() as request:\n",
        "    yield request\n",
        "    yield env.e"
      ]
    },
    {
      "cell_type": "code",
      "execution_count": 59,
      "metadata": {
        "id": "-Ndo6W0v7ud9"
      },
      "outputs": [],
      "source": [
        "def run_warehouse(env,num_picker):\n",
        "  warehouse = Warehouse(env,num_picker)\n",
        "  \n",
        "  for order in range(10):\n",
        "    env.process(start_picking(env,order,warehouse))\n",
        "    \n",
        "\n",
        "  while True:\n",
        "    yield env.timeout(random.expovariate(1/expo_mean))\n",
        "    order +=1\n",
        "    env.process(start_picking(env,order,warehouse))\n",
        "    num_order.append(order)\n",
        "\n"
      ]
    },
    {
      "cell_type": "code",
      "execution_count": 60,
      "metadata": {
        "id": "F7t55j8v8Dys"
      },
      "outputs": [],
      "source": [
        "def get_average_time(wait_times):\n",
        "  average_wait=statistics.mean(wait_times)\n",
        "  return average_wait"
      ]
    },
    {
      "cell_type": "code",
      "execution_count": 61,
      "metadata": {
        "id": "ZNA7hLpB8C25"
      },
      "outputs": [],
      "source": [
        "def get_user_input2():\n",
        "  num_picker=input(\"Input # of pickers: \")\n",
        "  params = num_picker\n",
        "  if str(params).isdigit() : #check if input is digit or not\n",
        "    params=int(params) \n",
        "  else:\n",
        "    print(\"Could not parse input. The simulation will use default values:\",\n",
        "            \"\\n1 picker\")\n",
        "    params = 1\n",
        "  return params\n",
        "def get_user_input():\n",
        "  total1=input(\"Input # of hours of simulation: \")\n",
        "  params = total1\n",
        "  if str(params).isdigit() : #check if input is digit or not\n",
        "    params=int(params) \n",
        "  else:\n",
        "    print(\"Could not parse input. The simulation will use default values:\",\n",
        "            \"\\n16 hours\")\n",
        "    params = 16\n",
        "  return params  "
      ]
    },
    {
      "cell_type": "code",
      "execution_count": 62,
      "metadata": {
        "id": "M4mw4b0c8H-q"
      },
      "outputs": [],
      "source": [
        "def main():\n",
        "  #random.seed(54) ## to keep using the same randomness\n",
        "  num_picker=get_user_input2()\n",
        "  total_hours=get_user_input()\n",
        "  env = sm.Environment()\n",
        "  env.process(run_warehouse(env,num_picker/2))\n",
        "  env.run(until=total_hours*60)\n",
        "  time=get_average_time(wait_times)\n",
        "  total_time=sum(wait_times)\n",
        "  total_order=num_order[len(num_order)-1]\n",
        "  print(\"The idle time(minutes) of orders on average are:\",time)\n",
        "  print(\"The idle time(minutes) of orders in total are:\",total_time)\n",
        "  print(\"Total number of orders for the timeline is\", total_order)\n",
        "  "
      ]
    },
    {
      "cell_type": "markdown",
      "metadata": {
        "id": "3TYYSnTCC4Cn"
      },
      "source": [
        "# Execution of Simulation"
      ]
    },
    {
      "cell_type": "code",
      "execution_count": 65,
      "metadata": {
        "colab": {
          "base_uri": "https://localhost:8080/"
        },
        "id": "bHUE_qyy8LjS",
        "outputId": "6eaf634b-a07f-4a4d-a2ed-34fbec6e67a1"
      },
      "outputs": [
        {
          "output_type": "stream",
          "name": "stdout",
          "text": [
            "Input # of pickers: 16\n",
            "Input # of hours of simulation: 12\n",
            "The idle time(minutes) of orders on average are: 4.660823391379289\n",
            "The idle time(minutes) of orders in total are: 386.8483414844809\n",
            "Total number of orders for the timeline is 82\n"
          ]
        }
      ],
      "source": [
        "if __name__ == '__main__':\n",
        "    main()"
      ]
    }
  ],
  "metadata": {
    "colab": {
      "provenance": []
    },
    "kernelspec": {
      "display_name": "Python 3",
      "name": "python3"
    },
    "language_info": {
      "name": "python"
    }
  },
  "nbformat": 4,
  "nbformat_minor": 0
}